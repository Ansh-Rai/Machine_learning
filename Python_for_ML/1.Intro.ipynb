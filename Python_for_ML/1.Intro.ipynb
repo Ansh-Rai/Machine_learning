{
 "cells": [
  {
   "cell_type": "markdown",
   "id": "8e325365",
   "metadata": {},
   "source": [
    "# Hello World\n"
   ]
  },
  {
   "cell_type": "code",
   "execution_count": 3,
   "id": "59468778",
   "metadata": {},
   "outputs": [
    {
     "name": "stdout",
     "output_type": "stream",
     "text": [
      "Hello,world!\n"
     ]
    }
   ],
   "source": [
    "print(\"Hello,world!\")"
   ]
  },
  {
   "cell_type": "code",
   "execution_count": 4,
   "id": "d3f990f9",
   "metadata": {},
   "outputs": [
    {
     "name": "stdout",
     "output_type": "stream",
     "text": [
      "The Zen of Python, by Tim Peters\n",
      "\n",
      "Beautiful is better than ugly.\n",
      "Explicit is better than implicit.\n",
      "Simple is better than complex.\n",
      "Complex is better than complicated.\n",
      "Flat is better than nested.\n",
      "Sparse is better than dense.\n",
      "Readability counts.\n",
      "Special cases aren't special enough to break the rules.\n",
      "Although practicality beats purity.\n",
      "Errors should never pass silently.\n",
      "Unless explicitly silenced.\n",
      "In the face of ambiguity, refuse the temptation to guess.\n",
      "There should be one-- and preferably only one --obvious way to do it.\n",
      "Although that way may not be obvious at first unless you're Dutch.\n",
      "Now is better than never.\n",
      "Although never is often better than *right* now.\n",
      "If the implementation is hard to explain, it's a bad idea.\n",
      "If the implementation is easy to explain, it may be a good idea.\n",
      "Namespaces are one honking great idea -- let's do more of those!\n"
     ]
    }
   ],
   "source": [
    "import this"
   ]
  },
  {
   "cell_type": "code",
   "execution_count": 5,
   "id": "9e803e04",
   "metadata": {},
   "outputs": [
    {
     "name": "stdout",
     "output_type": "stream",
     "text": [
      "Hey 10 2.2\n"
     ]
    }
   ],
   "source": [
    "print(\"Hey\",10,2.2)"
   ]
  },
  {
   "cell_type": "code",
   "execution_count": 6,
   "id": "6dd48840",
   "metadata": {},
   "outputs": [
    {
     "name": "stdout",
     "output_type": "stream",
     "text": [
      "Ansh \n"
     ]
    }
   ],
   "source": [
    "s = input()"
   ]
  },
  {
   "cell_type": "code",
   "execution_count": null,
   "id": "fe8a6fe1",
   "metadata": {},
   "outputs": [],
   "source": [
    "print(s)"
   ]
  },
  {
   "cell_type": "code",
   "execution_count": null,
   "id": "c9d7ffd7",
   "metadata": {},
   "outputs": [],
   "source": [
    "s = input(\"What is your name \")"
   ]
  },
  {
   "cell_type": "code",
   "execution_count": 1,
   "id": "f16193de",
   "metadata": {},
   "outputs": [
    {
     "name": "stdout",
     "output_type": "stream",
     "text": [
      "He\n"
     ]
    }
   ],
   "source": [
    "print(\"He\")"
   ]
  },
  {
   "cell_type": "code",
   "execution_count": 3,
   "id": "4a14380c",
   "metadata": {},
   "outputs": [
    {
     "name": "stdout",
     "output_type": "stream",
     "text": [
      "What is your nameansh\n",
      "Hello Ansh\n",
      "how old are you ? 23\n",
      "You are 23 Years old\n"
     ]
    }
   ],
   "source": [
    "name=input(\"What is your name\")\n",
    "print(\"Hello\" , name.capitalize())\n",
    "age=input(\"how old are you ? \")\n",
    "print(\"You are\", age , \"Years old\")"
   ]
  },
  {
   "cell_type": "code",
   "execution_count": 6,
   "id": "d9664e9c",
   "metadata": {},
   "outputs": [
    {
     "name": "stdout",
     "output_type": "stream",
     "text": [
      "Ansh\n"
     ]
    }
   ],
   "source": [
    "s=\"ansh\"\n",
    "t=s.capitalize()\n",
    "print(t)"
   ]
  },
  {
   "cell_type": "code",
   "execution_count": 7,
   "id": "3a16317c",
   "metadata": {},
   "outputs": [
    {
     "data": {
      "text/plain": [
       "'ANSH'"
      ]
     },
     "execution_count": 7,
     "metadata": {},
     "output_type": "execute_result"
    }
   ],
   "source": [
    "\"Ansh\".upper()"
   ]
  },
  {
   "cell_type": "code",
   "execution_count": 8,
   "id": "130bc3e2",
   "metadata": {},
   "outputs": [
    {
     "data": {
      "text/plain": [
       "'ansh'"
      ]
     },
     "execution_count": 8,
     "metadata": {},
     "output_type": "execute_result"
    }
   ],
   "source": [
    "\"Ansh\".lower()"
   ]
  },
  {
   "cell_type": "code",
   "execution_count": 9,
   "id": "e559c8f2",
   "metadata": {},
   "outputs": [
    {
     "data": {
      "text/plain": [
       "True"
      ]
     },
     "execution_count": 9,
     "metadata": {},
     "output_type": "execute_result"
    }
   ],
   "source": [
    "\"223\".isdecimal()"
   ]
  },
  {
   "cell_type": "code",
   "execution_count": 10,
   "id": "24a3c21c",
   "metadata": {},
   "outputs": [
    {
     "data": {
      "text/plain": [
       "False"
      ]
     },
     "execution_count": 10,
     "metadata": {},
     "output_type": "execute_result"
    }
   ],
   "source": [
    "\"Ansh\".isdecimal()"
   ]
  },
  {
   "cell_type": "code",
   "execution_count": 14,
   "id": "ea663c8b",
   "metadata": {},
   "outputs": [
    {
     "data": {
      "text/plain": [
       "'Vnsh'"
      ]
     },
     "execution_count": 14,
     "metadata": {},
     "output_type": "execute_result"
    }
   ],
   "source": [
    "name=\"Ansh\"\n",
    "name.replace('A','V')"
   ]
  },
  {
   "cell_type": "code",
   "execution_count": 18,
   "id": "066f3a6c",
   "metadata": {},
   "outputs": [
    {
     "name": "stdout",
     "output_type": "stream",
     "text": [
      "ansh  & biy\n"
     ]
    }
   ],
   "source": [
    "print(\"ansh\",end=' ')\n",
    "print(\" & biy\")"
   ]
  },
  {
   "cell_type": "code",
   "execution_count": 1,
   "id": "3dc3c7c3",
   "metadata": {},
   "outputs": [
    {
     "name": "stdout",
     "output_type": "stream",
     "text": [
      "hi\n"
     ]
    }
   ],
   "source": [
    "print(\"hi\")"
   ]
  },
  {
   "cell_type": "markdown",
   "id": "4be15582",
   "metadata": {},
   "source": [
    "# Variables \n"
   ]
  },
  {
   "cell_type": "code",
   "execution_count": 2,
   "id": "c5d77aad",
   "metadata": {},
   "outputs": [],
   "source": [
    "#Data types  integres floats string booleans"
   ]
  },
  {
   "cell_type": "code",
   "execution_count": 4,
   "id": "8670afd6",
   "metadata": {},
   "outputs": [],
   "source": [
    "#variable name convention\n",
    "#use lowercase seprate with underscore "
   ]
  },
  {
   "cell_type": "code",
   "execution_count": 5,
   "id": "46b9797a",
   "metadata": {},
   "outputs": [],
   "source": [
    "#declaration of variables\n",
    "s=\"This is a string \"\n",
    "a=2\n",
    "b=2.4"
   ]
  },
  {
   "cell_type": "code",
   "execution_count": 8,
   "id": "a1e1e55a",
   "metadata": {},
   "outputs": [
    {
     "data": {
      "text/plain": [
       "float"
      ]
     },
     "execution_count": 8,
     "metadata": {},
     "output_type": "execute_result"
    }
   ],
   "source": [
    "type(b)"
   ]
  },
  {
   "cell_type": "code",
   "execution_count": 9,
   "id": "103f29d3",
   "metadata": {},
   "outputs": [],
   "source": [
    "# integers -- whole numbers not a fraction "
   ]
  },
  {
   "cell_type": "code",
   "execution_count": 12,
   "id": "a645b700",
   "metadata": {},
   "outputs": [
    {
     "data": {
      "text/plain": [
       "(int, int)"
      ]
     },
     "execution_count": 12,
     "metadata": {},
     "output_type": "execute_result"
    }
   ],
   "source": [
    "a=2\n",
    "b=3\n",
    "type(a),type(b)"
   ]
  },
  {
   "cell_type": "code",
   "execution_count": 15,
   "id": "62547a03",
   "metadata": {},
   "outputs": [
    {
     "data": {
      "text/plain": [
       "int"
      ]
     },
     "execution_count": 15,
     "metadata": {},
     "output_type": "execute_result"
    }
   ],
   "source": [
    "c=a+b\n",
    "type(c)"
   ]
  },
  {
   "cell_type": "code",
   "execution_count": 16,
   "id": "5e4b7d90",
   "metadata": {},
   "outputs": [],
   "source": [
    "#float->decimal number "
   ]
  },
  {
   "cell_type": "code",
   "execution_count": 17,
   "id": "db484383",
   "metadata": {},
   "outputs": [],
   "source": [
    "a=1.1\n",
    "b=2.3\n"
   ]
  },
  {
   "cell_type": "code",
   "execution_count": 18,
   "id": "00e4cc9b",
   "metadata": {},
   "outputs": [
    {
     "data": {
      "text/plain": [
       "(float, float)"
      ]
     },
     "execution_count": 18,
     "metadata": {},
     "output_type": "execute_result"
    }
   ],
   "source": [
    "type(a),type(b)"
   ]
  },
  {
   "cell_type": "code",
   "execution_count": 19,
   "id": "18f0eecf",
   "metadata": {},
   "outputs": [
    {
     "name": "stdout",
     "output_type": "stream",
     "text": [
      "3.4\n"
     ]
    },
    {
     "data": {
      "text/plain": [
       "float"
      ]
     },
     "execution_count": 19,
     "metadata": {},
     "output_type": "execute_result"
    }
   ],
   "source": [
    "print(a+b)\n",
    "type(a+b)"
   ]
  },
  {
   "cell_type": "code",
   "execution_count": 20,
   "id": "35bdd9b7",
   "metadata": {},
   "outputs": [],
   "source": [
    "i=1"
   ]
  },
  {
   "cell_type": "code",
   "execution_count": 22,
   "id": "be392e2f",
   "metadata": {},
   "outputs": [
    {
     "data": {
      "text/plain": [
       "float"
      ]
     },
     "execution_count": 22,
     "metadata": {},
     "output_type": "execute_result"
    }
   ],
   "source": [
    "type(i+a)"
   ]
  },
  {
   "cell_type": "code",
   "execution_count": 23,
   "id": "5fbd3b05",
   "metadata": {},
   "outputs": [
    {
     "data": {
      "text/plain": [
       "2.1"
      ]
     },
     "execution_count": 23,
     "metadata": {},
     "output_type": "execute_result"
    }
   ],
   "source": [
    "i+a"
   ]
  },
  {
   "cell_type": "code",
   "execution_count": 24,
   "id": "b3cab90a",
   "metadata": {},
   "outputs": [],
   "source": [
    "# math function"
   ]
  },
  {
   "cell_type": "code",
   "execution_count": 25,
   "id": "a54421ce",
   "metadata": {},
   "outputs": [
    {
     "data": {
      "text/plain": [
       "2"
      ]
     },
     "execution_count": 25,
     "metadata": {},
     "output_type": "execute_result"
    }
   ],
   "source": [
    "abs(-2)"
   ]
  },
  {
   "cell_type": "code",
   "execution_count": 26,
   "id": "cfb6bcda",
   "metadata": {},
   "outputs": [
    {
     "data": {
      "text/plain": [
       "8"
      ]
     },
     "execution_count": 26,
     "metadata": {},
     "output_type": "execute_result"
    }
   ],
   "source": [
    "pow(2,3)"
   ]
  },
  {
   "cell_type": "code",
   "execution_count": 27,
   "id": "60106380",
   "metadata": {},
   "outputs": [
    {
     "data": {
      "text/plain": [
       "8"
      ]
     },
     "execution_count": 27,
     "metadata": {},
     "output_type": "execute_result"
    }
   ],
   "source": [
    "2**3"
   ]
  },
  {
   "cell_type": "code",
   "execution_count": 29,
   "id": "ccefab9e",
   "metadata": {},
   "outputs": [
    {
     "data": {
      "text/plain": [
       "3.1"
      ]
     },
     "execution_count": 29,
     "metadata": {},
     "output_type": "execute_result"
    }
   ],
   "source": [
    "round(3.14,1)"
   ]
  },
  {
   "cell_type": "code",
   "execution_count": 30,
   "id": "8b3fbd28",
   "metadata": {},
   "outputs": [
    {
     "data": {
      "text/plain": [
       "1.23323"
      ]
     },
     "execution_count": 30,
     "metadata": {},
     "output_type": "execute_result"
    }
   ],
   "source": [
    "f=1.23322545245\n",
    "round(f,5)"
   ]
  },
  {
   "cell_type": "code",
   "execution_count": 31,
   "id": "3f2bd9d5",
   "metadata": {},
   "outputs": [],
   "source": [
    "#Strings"
   ]
  },
  {
   "cell_type": "code",
   "execution_count": 32,
   "id": "93620d0b",
   "metadata": {},
   "outputs": [],
   "source": [
    "s1=\"I am a string\"\n",
    "s2=\"I am another string\""
   ]
  },
  {
   "cell_type": "code",
   "execution_count": 33,
   "id": "44a36997",
   "metadata": {},
   "outputs": [
    {
     "data": {
      "text/plain": [
       "'I am a stringI am another string'"
      ]
     },
     "execution_count": 33,
     "metadata": {},
     "output_type": "execute_result"
    }
   ],
   "source": [
    "s1+s2"
   ]
  },
  {
   "cell_type": "code",
   "execution_count": 34,
   "id": "349e6752",
   "metadata": {},
   "outputs": [
    {
     "ename": "TypeError",
     "evalue": "can only concatenate str (not \"int\") to str",
     "output_type": "error",
     "traceback": [
      "\u001b[1;31m---------------------------------------------------------------------------\u001b[0m",
      "\u001b[1;31mTypeError\u001b[0m                                 Traceback (most recent call last)",
      "Cell \u001b[1;32mIn[34], line 2\u001b[0m\n\u001b[0;32m      1\u001b[0m a\u001b[38;5;241m=\u001b[39m\u001b[38;5;241m1\u001b[39m\n\u001b[1;32m----> 2\u001b[0m \u001b[43ms1\u001b[49m\u001b[38;5;241;43m+\u001b[39;49m\u001b[43ma\u001b[49m\n",
      "\u001b[1;31mTypeError\u001b[0m: can only concatenate str (not \"int\") to str"
     ]
    }
   ],
   "source": [
    "a=1\n",
    "s1+a"
   ]
  },
  {
   "cell_type": "code",
   "execution_count": 36,
   "id": "ff025948",
   "metadata": {},
   "outputs": [
    {
     "name": "stdout",
     "output_type": "stream",
     "text": [
      " I am a string with an int here 3 - and more txt \n"
     ]
    }
   ],
   "source": [
    "print(f\" I am a string with an int here {a+2} - and more txt \")"
   ]
  },
  {
   "cell_type": "code",
   "execution_count": 37,
   "id": "c909f4d1",
   "metadata": {},
   "outputs": [],
   "source": [
    "## booleans - True or False "
   ]
  },
  {
   "cell_type": "code",
   "execution_count": 38,
   "id": "50505fb1",
   "metadata": {},
   "outputs": [
    {
     "data": {
      "text/plain": [
       "True"
      ]
     },
     "execution_count": 38,
     "metadata": {},
     "output_type": "execute_result"
    }
   ],
   "source": [
    "True  "
   ]
  },
  {
   "cell_type": "code",
   "execution_count": 39,
   "id": "a4f4fc6b",
   "metadata": {},
   "outputs": [
    {
     "data": {
      "text/plain": [
       "False"
      ]
     },
     "execution_count": 39,
     "metadata": {},
     "output_type": "execute_result"
    }
   ],
   "source": [
    "False"
   ]
  },
  {
   "cell_type": "code",
   "execution_count": 40,
   "id": "1aaf794e",
   "metadata": {},
   "outputs": [],
   "source": [
    "b=True"
   ]
  },
  {
   "cell_type": "code",
   "execution_count": 41,
   "id": "81ba297b",
   "metadata": {},
   "outputs": [
    {
     "data": {
      "text/plain": [
       "True"
      ]
     },
     "execution_count": 41,
     "metadata": {},
     "output_type": "execute_result"
    }
   ],
   "source": [
    "b"
   ]
  },
  {
   "cell_type": "code",
   "execution_count": 42,
   "id": "4b7ea551",
   "metadata": {},
   "outputs": [],
   "source": [
    "b= 10 > 5"
   ]
  },
  {
   "cell_type": "code",
   "execution_count": 43,
   "id": "515e61bd",
   "metadata": {},
   "outputs": [
    {
     "data": {
      "text/plain": [
       "True"
      ]
     },
     "execution_count": 43,
     "metadata": {},
     "output_type": "execute_result"
    }
   ],
   "source": [
    "b"
   ]
  },
  {
   "cell_type": "code",
   "execution_count": 44,
   "id": "87c9d418",
   "metadata": {},
   "outputs": [
    {
     "data": {
      "text/plain": [
       "False"
      ]
     },
     "execution_count": 44,
     "metadata": {},
     "output_type": "execute_result"
    }
   ],
   "source": [
    "bool(2>4)"
   ]
  },
  {
   "cell_type": "code",
   "execution_count": 45,
   "id": "32c25104",
   "metadata": {},
   "outputs": [],
   "source": [
    "#Type conversions"
   ]
  },
  {
   "cell_type": "code",
   "execution_count": 47,
   "id": "9a5da48f",
   "metadata": {},
   "outputs": [
    {
     "name": "stdout",
     "output_type": "stream",
     "text": [
      "What is your nameAnsh\n",
      "Hello Ansh!\n",
      "What is your birth year2003\n",
      "You were born in 2003.\n"
     ]
    }
   ],
   "source": [
    "name=input(\"What is your name\")\n",
    "print(f\"Hello {name}!\")\n",
    "birth_year=input(\"What is your birth year\")\n",
    "print(f\"You were born in {birth_year}.\")"
   ]
  },
  {
   "cell_type": "code",
   "execution_count": 49,
   "id": "8fa15e8b",
   "metadata": {},
   "outputs": [
    {
     "name": "stdout",
     "output_type": "stream",
     "text": [
      "What is your nameAnsh \n",
      "Hello Ansh !\n",
      "What is your birth year2003\n",
      "You were born in 2003.\n",
      "You are 20 years old \n"
     ]
    }
   ],
   "source": [
    "name=input(\"What is your name\")\n",
    "print(f\"Hello {name}!\")\n",
    "birth_year=int(input(\"What is your birth year\") )## takes a string\n",
    "print(f\"You were born in {birth_year}.\")\n",
    "print(f\"You are {2023-birth_year} years old \")"
   ]
  },
  {
   "cell_type": "code",
   "execution_count": 50,
   "id": "40cc2ade",
   "metadata": {},
   "outputs": [
    {
     "data": {
      "text/plain": [
       "30"
      ]
     },
     "execution_count": 50,
     "metadata": {},
     "output_type": "execute_result"
    }
   ],
   "source": [
    "int(\"30\")"
   ]
  },
  {
   "cell_type": "code",
   "execution_count": 54,
   "id": "ce49e8c7",
   "metadata": {},
   "outputs": [
    {
     "data": {
      "text/plain": [
       "-4"
      ]
     },
     "execution_count": 54,
     "metadata": {},
     "output_type": "execute_result"
    }
   ],
   "source": [
    "int(\" -4\")"
   ]
  },
  {
   "cell_type": "code",
   "execution_count": 55,
   "id": "1b007b72",
   "metadata": {},
   "outputs": [
    {
     "data": {
      "text/plain": [
       "2.0"
      ]
     },
     "execution_count": 55,
     "metadata": {},
     "output_type": "execute_result"
    }
   ],
   "source": [
    "float(\"2\")"
   ]
  },
  {
   "cell_type": "code",
   "execution_count": 56,
   "id": "28119996",
   "metadata": {},
   "outputs": [
    {
     "data": {
      "text/plain": [
       "3.14"
      ]
     },
     "execution_count": 56,
     "metadata": {},
     "output_type": "execute_result"
    }
   ],
   "source": [
    "float(\"3.14\")"
   ]
  },
  {
   "cell_type": "code",
   "execution_count": 57,
   "id": "28688f44",
   "metadata": {},
   "outputs": [
    {
     "data": {
      "text/plain": [
       "3.0"
      ]
     },
     "execution_count": 57,
     "metadata": {},
     "output_type": "execute_result"
    }
   ],
   "source": [
    "float(3)"
   ]
  },
  {
   "cell_type": "code",
   "execution_count": null,
   "id": "f35f975c",
   "metadata": {},
   "outputs": [],
   "source": [
    "s=\"This is a string \"\n"
   ]
  }
 ],
 "metadata": {
  "kernelspec": {
   "display_name": "Python 3 (ipykernel)",
   "language": "python",
   "name": "python3"
  },
  "language_info": {
   "codemirror_mode": {
    "name": "ipython",
    "version": 3
   },
   "file_extension": ".py",
   "mimetype": "text/x-python",
   "name": "python",
   "nbconvert_exporter": "python",
   "pygments_lexer": "ipython3",
   "version": "3.10.9"
  }
 },
 "nbformat": 4,
 "nbformat_minor": 5
}
